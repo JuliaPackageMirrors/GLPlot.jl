{
 "cells": [
  {
   "cell_type": "code",
   "execution_count": null,
   "metadata": {
    "collapsed": false
   },
   "outputs": [
    {
     "name": "stderr",
     "output_type": "stream",
     "text": [
      "INFO: Recompiling stale cache file C:\\Users\\sdani\\.julia\\lib\\v0.5\\GLVisualize.ji for module GLVisualize.\n",
      "WARNING: New definition \n",
      "    size"
     ]
    }
   ],
   "source": [
    "using Reactive, GLVisualize, GeometryTypes, Colors, GLWindow, GLAbstraction, GLFW, FileIO\n",
    "w = glscreen();@async renderloop(w)"
   ]
  },
  {
   "cell_type": "code",
   "execution_count": null,
   "metadata": {
    "collapsed": false
   },
   "outputs": [],
   "source": [
    "toolbar_area(pa) = SimpleRectangle(0, 0, 120, pa.h)"
   ]
  },
  {
   "cell_type": "code",
   "execution_count": null,
   "metadata": {
    "collapsed": false
   },
   "outputs": [],
   "source": [
    "function toggle(robj::Context, window)\n",
    "    foldp(false, window.inputs[:mouse_buttons_pressed]) do v0, mbp\n",
    "        if GLAbstraction.singlepressed(mbp, GLFW.MOUSE_BUTTON_LEFT)\n",
    "            id, index = value(mouse2id(window))\n",
    "            if id==robj.children[].id\n",
    "                return !v0\n",
    "            end\n",
    "        end\n",
    "        v0\n",
    "    end\n",
    "end"
   ]
  },
  {
   "cell_type": "code",
   "execution_count": null,
   "metadata": {
    "collapsed": false
   },
   "outputs": [],
   "source": [
    "function edit_rectangle(visible, area, arrow_pos_s)\n",
    "    w = visible ? div(area.w,4) : 0\n",
    "    x = area.w-w\n",
    "    push!(arrow_pos_s, [Point2f0(x, area.h/2)])\n",
    "    SimpleRectangle(x, 0, w, area.h)\n",
    "end"
   ]
  },
  {
   "cell_type": "code",
   "execution_count": null,
   "metadata": {
    "collapsed": false
   },
   "outputs": [],
   "source": [
    "viewing_area(area) = SimpleRectangle(0, 0, area.x, area.h)"
   ]
  },
  {
   "cell_type": "code",
   "execution_count": null,
   "metadata": {
    "collapsed": false
   },
   "outputs": [],
   "source": [
    "function update_positions(v0, mp, area)\n",
    "    positions, colors = v0\n",
    "    if isinside(area, mp...)\n",
    "        for (i, p) in enumerate(positions)\n",
    "            x = 1-(clamp(abs(p[2]+37 - mp[2]), 0, 200) / 200)\n",
    "            y = clamp(abs(area.w-mp[1]), 0, 62)*x\n",
    "            positions[i] = Point2f0(-60+y, p[2])\n",
    "            alpha = 1-(clamp(abs(p[2]+37 - mp[2]), 0, 100) / 100)\n",
    "            colors[i] = RGBA{Float32}(0.8,0.8,0.8,alpha)\n",
    "        end\n",
    "    else\n",
    "        for (i, p) in enumerate(linspace(74, area.h-74*2, length(positions)))\n",
    "            positions[i] = Point2f0(-68, p)\n",
    "            colors[i] = RGBA{Float32}(0.8,0.8,0.8,0)\n",
    "        end\n",
    "    end\n",
    "    positions, colors\n",
    "end"
   ]
  },
  {
   "cell_type": "code",
   "execution_count": null,
   "metadata": {
    "collapsed": false
   },
   "outputs": [],
   "source": []
  },
  {
   "cell_type": "code",
   "execution_count": null,
   "metadata": {
    "collapsed": false
   },
   "outputs": [],
   "source": [
    "function on_click(isclicked, m2id, scalzies, scale, scaleclick, tools)\n",
    "    id, index = value(m2id)\n",
    "    if isclicked && id==robj.children[].id && tools >= index\n",
    "        s = value(scalzies)\n",
    "        s[index] = Vec2f0(scaleclick)\n",
    "        push!(scalzies, s)\n",
    "        return index\n",
    "    end\n",
    "    push!(scalzies, fill(Vec2f0(scale), tools))\n",
    "    return 0\n",
    "end"
   ]
  },
  {
   "cell_type": "code",
   "execution_count": null,
   "metadata": {
    "collapsed": false
   },
   "outputs": [],
   "source": [
    "glload(name) = load(Pkg.dir(\"GLPlot\", \"src\", \"icons\", name))\n",
    "images = Matrix{BGRA{U8}}[glload(\"cube_camera.png\").data, glload(\"screenshot.png\").data, glload(\"wasd_camera.png\").data]\n",
    "\n",
    "tools = length(images)\n",
    "tarea = map(toolbar_area, w.area)\n",
    "button_pos = Signal([Point2f0(w.area.value.w, w.area.value.h/2)])\n",
    "edit_screen_show_button = visualize(\n",
    "    (SimpleRectangle(-10,-10,10,20), button_pos), \n",
    "    color=RGBA{Float32}(0.6,0.6,0.6,1)\n",
    ")\n",
    "\n",
    "show_edit_screen = toggle(edit_screen_show_button, w)\n",
    "edit_screen_area = map(edit_rectangle, \n",
    "    show_edit_screen, w.area, Signal(button_pos)\n",
    ")\n",
    "\n",
    "viewing_screen = Screen(w, \n",
    "    area=map(viewing_area, edit_screen_area), \n",
    "    color=RGBA{Float32}(1,1,1,0)\n",
    ")\n",
    "toolbar_screen = Screen(w, area=tarea)\n",
    "edit_screen    = Screen(w, area=edit_screen_area, color=RGBA{Float32}(0,0,0,1))\n",
    "\n",
    "nothing"
   ]
  },
  {
   "cell_type": "code",
   "execution_count": null,
   "metadata": {
    "collapsed": false
   },
   "outputs": [],
   "source": [
    "\n",
    "ma_posis = zeros(Point2f0, tools)\n",
    "ma_colsis = zeros(RGBA{Float32}, tools)\n",
    "scalzies = Signal(fill(Vec2f0(74), tools))\n",
    "\n",
    "ps = foldp(update_positions,\n",
    "    (ma_posis, ma_colsis),\n",
    "    w.inputs[:mouseposition], tarea\n",
    ")\n",
    "\n",
    "key_pressed = const_lift(GLAbstraction.singlepressed, \n",
    "    w.inputs[:mouse_buttons_pressed], \n",
    "    GLFW.MOUSE_BUTTON_LEFT\n",
    ")\n",
    "const m2id = mouse2id(w)\n",
    "\n",
    "robj = visualize(\n",
    "    (Circle, map(first, ps)),\n",
    "    image=images,\n",
    "    scale=scalzies, glow_width=2f0, \n",
    "    glow_color=map(last, ps)\n",
    ")\n",
    "\n",
    "\n",
    "tool_clicked = map(\n",
    "    on_click, \n",
    "    key_pressed, Signal(m2id), Signal(scalzies),\n",
    "    Signal(74), Signal(76), Signal(tools)\n",
    ")\n",
    "\n"
   ]
  },
  {
   "cell_type": "code",
   "execution_count": null,
   "metadata": {
    "collapsed": false
   },
   "outputs": [],
   "source": [
    "view(robj, toolbar_screen, camera=:fixed_pixel)\n",
    "view(edit_screen_show_button, camera=:fixed_pixel)\n",
    "view(visualize(rand(Float32, 32,32)), viewing_screen)"
   ]
  },
  {
   "cell_type": "code",
   "execution_count": null,
   "metadata": {
    "collapsed": false
   },
   "outputs": [],
   "source": []
  }
 ],
 "metadata": {
  "kernelspec": {
   "display_name": "Julia 0.5.0-dev",
   "language": "julia",
   "name": "julia-0.5"
  },
  "language_info": {
   "file_extension": ".jl",
   "mimetype": "application/julia",
   "name": "julia",
   "version": "0.5.0"
  }
 },
 "nbformat": 4,
 "nbformat_minor": 0
}
